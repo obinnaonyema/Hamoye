{
  "cells": [
    {
      "metadata": {
        "trusted": true
      },
      "cell_type": "code",
      "source": "#prepare the environment\nimport numpy as np\nimport pandas as pd\nimport seaborn as sns\nimport matplotlib.pyplot as plt\n%matplotlib inline ",
      "execution_count": 84,
      "outputs": []
    },
    {
      "metadata": {
        "trusted": true
      },
      "cell_type": "code",
      "source": "#load file\ndata = pd.read_csv('fuel_data.csv')",
      "execution_count": 85,
      "outputs": []
    },
    {
      "metadata": {
        "trusted": true
      },
      "cell_type": "code",
      "source": "data.head()",
      "execution_count": 86,
      "outputs": [
        {
          "output_type": "execute_result",
          "execution_count": 86,
          "data": {
            "text/html": "<div>\n<style scoped>\n    .dataframe tbody tr th:only-of-type {\n        vertical-align: middle;\n    }\n\n    .dataframe tbody tr th {\n        vertical-align: top;\n    }\n\n    .dataframe thead th {\n        text-align: right;\n    }\n</style>\n<table border=\"1\" class=\"dataframe\">\n  <thead>\n    <tr style=\"text-align: right;\">\n      <th></th>\n      <th>record_id</th>\n      <th>utility_id_ferc1</th>\n      <th>report_year</th>\n      <th>plant_name_ferc1</th>\n      <th>fuel_type_code_pudl</th>\n      <th>fuel_unit</th>\n      <th>fuel_qty_burned</th>\n      <th>fuel_mmbtu_per_unit</th>\n      <th>fuel_cost_per_unit_burned</th>\n      <th>fuel_cost_per_unit_delivered</th>\n      <th>fuel_cost_per_mmbtu</th>\n    </tr>\n  </thead>\n  <tbody>\n    <tr>\n      <th>0</th>\n      <td>f1_fuel_1994_12_1_0_7</td>\n      <td>1</td>\n      <td>1994</td>\n      <td>rockport</td>\n      <td>coal</td>\n      <td>ton</td>\n      <td>5377489.0</td>\n      <td>16.590</td>\n      <td>18.59</td>\n      <td>18.53</td>\n      <td>1.121</td>\n    </tr>\n    <tr>\n      <th>1</th>\n      <td>f1_fuel_1994_12_1_0_10</td>\n      <td>1</td>\n      <td>1994</td>\n      <td>rockport total plant</td>\n      <td>coal</td>\n      <td>ton</td>\n      <td>10486945.0</td>\n      <td>16.592</td>\n      <td>18.58</td>\n      <td>18.53</td>\n      <td>1.120</td>\n    </tr>\n    <tr>\n      <th>2</th>\n      <td>f1_fuel_1994_12_2_0_1</td>\n      <td>2</td>\n      <td>1994</td>\n      <td>gorgas</td>\n      <td>coal</td>\n      <td>ton</td>\n      <td>2978683.0</td>\n      <td>24.130</td>\n      <td>39.72</td>\n      <td>38.12</td>\n      <td>1.650</td>\n    </tr>\n    <tr>\n      <th>3</th>\n      <td>f1_fuel_1994_12_2_0_7</td>\n      <td>2</td>\n      <td>1994</td>\n      <td>barry</td>\n      <td>coal</td>\n      <td>ton</td>\n      <td>3739484.0</td>\n      <td>23.950</td>\n      <td>47.21</td>\n      <td>45.99</td>\n      <td>1.970</td>\n    </tr>\n    <tr>\n      <th>4</th>\n      <td>f1_fuel_1994_12_2_0_10</td>\n      <td>2</td>\n      <td>1994</td>\n      <td>chickasaw</td>\n      <td>gas</td>\n      <td>mcf</td>\n      <td>40533.0</td>\n      <td>1.000</td>\n      <td>2.77</td>\n      <td>2.77</td>\n      <td>2.570</td>\n    </tr>\n  </tbody>\n</table>\n</div>",
            "text/plain": "                record_id  utility_id_ferc1  report_year  \\\n0   f1_fuel_1994_12_1_0_7                 1         1994   \n1  f1_fuel_1994_12_1_0_10                 1         1994   \n2   f1_fuel_1994_12_2_0_1                 2         1994   \n3   f1_fuel_1994_12_2_0_7                 2         1994   \n4  f1_fuel_1994_12_2_0_10                 2         1994   \n\n       plant_name_ferc1 fuel_type_code_pudl fuel_unit  fuel_qty_burned  \\\n0              rockport                coal       ton        5377489.0   \n1  rockport total plant                coal       ton       10486945.0   \n2                gorgas                coal       ton        2978683.0   \n3                 barry                coal       ton        3739484.0   \n4             chickasaw                 gas       mcf          40533.0   \n\n   fuel_mmbtu_per_unit  fuel_cost_per_unit_burned  \\\n0               16.590                      18.59   \n1               16.592                      18.58   \n2               24.130                      39.72   \n3               23.950                      47.21   \n4                1.000                       2.77   \n\n   fuel_cost_per_unit_delivered  fuel_cost_per_mmbtu  \n0                         18.53                1.121  \n1                         18.53                1.120  \n2                         38.12                1.650  \n3                         45.99                1.970  \n4                          2.77                2.570  "
          },
          "metadata": {}
        }
      ]
    },
    {
      "metadata": {
        "trusted": true
      },
      "cell_type": "code",
      "source": "data.describe()\n#used for question 4",
      "execution_count": 87,
      "outputs": [
        {
          "output_type": "execute_result",
          "execution_count": 87,
          "data": {
            "text/html": "<div>\n<style scoped>\n    .dataframe tbody tr th:only-of-type {\n        vertical-align: middle;\n    }\n\n    .dataframe tbody tr th {\n        vertical-align: top;\n    }\n\n    .dataframe thead th {\n        text-align: right;\n    }\n</style>\n<table border=\"1\" class=\"dataframe\">\n  <thead>\n    <tr style=\"text-align: right;\">\n      <th></th>\n      <th>utility_id_ferc1</th>\n      <th>report_year</th>\n      <th>fuel_qty_burned</th>\n      <th>fuel_mmbtu_per_unit</th>\n      <th>fuel_cost_per_unit_burned</th>\n      <th>fuel_cost_per_unit_delivered</th>\n      <th>fuel_cost_per_mmbtu</th>\n    </tr>\n  </thead>\n  <tbody>\n    <tr>\n      <th>count</th>\n      <td>29523.000000</td>\n      <td>29523.000000</td>\n      <td>2.952300e+04</td>\n      <td>29523.000000</td>\n      <td>29523.000000</td>\n      <td>2.952300e+04</td>\n      <td>29523.000000</td>\n    </tr>\n    <tr>\n      <th>mean</th>\n      <td>118.601836</td>\n      <td>2005.806050</td>\n      <td>2.622119e+06</td>\n      <td>8.492111</td>\n      <td>208.649031</td>\n      <td>9.175704e+02</td>\n      <td>19.304354</td>\n    </tr>\n    <tr>\n      <th>std</th>\n      <td>74.178353</td>\n      <td>7.025483</td>\n      <td>9.118004e+06</td>\n      <td>10.600220</td>\n      <td>2854.490090</td>\n      <td>6.877593e+04</td>\n      <td>2091.540939</td>\n    </tr>\n    <tr>\n      <th>min</th>\n      <td>1.000000</td>\n      <td>1994.000000</td>\n      <td>1.000000e+00</td>\n      <td>0.000001</td>\n      <td>-276.080000</td>\n      <td>-8.749370e+02</td>\n      <td>-41.501000</td>\n    </tr>\n    <tr>\n      <th>25%</th>\n      <td>55.000000</td>\n      <td>2000.000000</td>\n      <td>1.381700e+04</td>\n      <td>1.024000</td>\n      <td>5.207000</td>\n      <td>3.778500e+00</td>\n      <td>1.940000</td>\n    </tr>\n    <tr>\n      <th>50%</th>\n      <td>122.000000</td>\n      <td>2006.000000</td>\n      <td>2.533220e+05</td>\n      <td>5.762694</td>\n      <td>26.000000</td>\n      <td>1.737100e+01</td>\n      <td>4.127000</td>\n    </tr>\n    <tr>\n      <th>75%</th>\n      <td>176.000000</td>\n      <td>2012.000000</td>\n      <td>1.424034e+06</td>\n      <td>17.006000</td>\n      <td>47.113000</td>\n      <td>4.213700e+01</td>\n      <td>7.745000</td>\n    </tr>\n    <tr>\n      <th>max</th>\n      <td>514.000000</td>\n      <td>2018.000000</td>\n      <td>5.558942e+08</td>\n      <td>341.260000</td>\n      <td>139358.000000</td>\n      <td>7.964521e+06</td>\n      <td>359278.000000</td>\n    </tr>\n  </tbody>\n</table>\n</div>",
            "text/plain": "       utility_id_ferc1   report_year  fuel_qty_burned  fuel_mmbtu_per_unit  \\\ncount      29523.000000  29523.000000     2.952300e+04         29523.000000   \nmean         118.601836   2005.806050     2.622119e+06             8.492111   \nstd           74.178353      7.025483     9.118004e+06            10.600220   \nmin            1.000000   1994.000000     1.000000e+00             0.000001   \n25%           55.000000   2000.000000     1.381700e+04             1.024000   \n50%          122.000000   2006.000000     2.533220e+05             5.762694   \n75%          176.000000   2012.000000     1.424034e+06            17.006000   \nmax          514.000000   2018.000000     5.558942e+08           341.260000   \n\n       fuel_cost_per_unit_burned  fuel_cost_per_unit_delivered  \\\ncount               29523.000000                  2.952300e+04   \nmean                  208.649031                  9.175704e+02   \nstd                  2854.490090                  6.877593e+04   \nmin                  -276.080000                 -8.749370e+02   \n25%                     5.207000                  3.778500e+00   \n50%                    26.000000                  1.737100e+01   \n75%                    47.113000                  4.213700e+01   \nmax                139358.000000                  7.964521e+06   \n\n       fuel_cost_per_mmbtu  \ncount         29523.000000  \nmean             19.304354  \nstd            2091.540939  \nmin             -41.501000  \n25%               1.940000  \n50%               4.127000  \n75%               7.745000  \nmax          359278.000000  "
          },
          "metadata": {}
        }
      ]
    },
    {
      "metadata": {
        "trusted": true
      },
      "cell_type": "code",
      "source": "#question 3\ndata.groupby('fuel_type_code_pudl').fuel_cost_per_unit_burned.mean()",
      "execution_count": 88,
      "outputs": [
        {
          "output_type": "execute_result",
          "execution_count": 88,
          "data": {
            "text/plain": "fuel_type_code_pudl\ncoal         67.421830\ngas          13.659397\nnuclear    4955.157002\noil         168.877086\nother        18.253856\nwaste        19.518122\nName: fuel_cost_per_unit_burned, dtype: float64"
          },
          "metadata": {}
        }
      ]
    },
    {
      "metadata": {
        "trusted": true,
        "scrolled": true
      },
      "cell_type": "code",
      "source": "data.isnull().sum()",
      "execution_count": 89,
      "outputs": [
        {
          "output_type": "execute_result",
          "execution_count": 89,
          "data": {
            "text/plain": "record_id                         0\nutility_id_ferc1                  0\nreport_year                       0\nplant_name_ferc1                  0\nfuel_type_code_pudl               0\nfuel_unit                       180\nfuel_qty_burned                   0\nfuel_mmbtu_per_unit               0\nfuel_cost_per_unit_burned         0\nfuel_cost_per_unit_delivered      0\nfuel_cost_per_mmbtu               0\ndtype: int64"
          },
          "metadata": {}
        }
      ]
    },
    {
      "metadata": {
        "trusted": true
      },
      "cell_type": "code",
      "source": "data.fuel_unit.count()",
      "execution_count": 90,
      "outputs": [
        {
          "output_type": "execute_result",
          "execution_count": 90,
          "data": {
            "text/plain": "29343"
          },
          "metadata": {}
        }
      ]
    },
    {
      "metadata": {
        "trusted": true
      },
      "cell_type": "code",
      "source": "#question 6\nprint(round((180/29343)*100,3))",
      "execution_count": 91,
      "outputs": [
        {
          "output_type": "stream",
          "text": "0.613\n",
          "name": "stdout"
        }
      ]
    },
    {
      "metadata": {
        "trusted": true
      },
      "cell_type": "code",
      "source": "#question 7\ndata.fuel_unit.value_counts()",
      "execution_count": 92,
      "outputs": [
        {
          "output_type": "execute_result",
          "execution_count": 92,
          "data": {
            "text/plain": "mcf       11354\nton        8958\nbbl        7998\ngramsU      464\nmmbtu       180\nkgU         110\nmwhth       100\nmwdth        95\ngal          84\nName: fuel_unit, dtype: int64"
          },
          "metadata": {}
        }
      ]
    },
    {
      "metadata": {
        "trusted": true
      },
      "cell_type": "code",
      "source": "#question 8: correlation\ncorrelate = data.corr()\nf, ax = plt.subplots(figsize=(9,6))\nsns.heatmap(correlate, vmax=.8, square=True, cmap=\"BuPu\")",
      "execution_count": 93,
      "outputs": [
        {
          "output_type": "execute_result",
          "execution_count": 93,
          "data": {
            "text/plain": "<matplotlib.axes._subplots.AxesSubplot at 0x7f7b19d37b70>"
          },
          "metadata": {}
        },
        {
          "output_type": "display_data",
          "data": {
            "image/png": "[encoded data removed]",
            "text/plain": "<Figure size 648x432 with 2 Axes>"
          },
          "metadata": {
            "needs_background": "light"
          }
        }
      ]
    },
    {
      "metadata": {
        "trusted": true
      },
      "cell_type": "code",
      "source": "coal_data = data[['report_year','fuel_cost_per_unit_burned']].loc[data.fuel_type_code_pudl=='coal']",
      "execution_count": 94,
      "outputs": []
    },
    {
      "metadata": {
        "trusted": true
      },
      "cell_type": "code",
      "source": "coal_data.groupby('report_year').fuel_cost_per_unit_burned.mean()",
      "execution_count": 95,
      "outputs": [
        {
          "output_type": "execute_result",
          "execution_count": 95,
          "data": {
            "text/plain": "report_year\n1994     31.546467\n1995     30.677442\n1996     29.454299\n1997    104.897309\n1998     27.616234\n1999     38.361101\n2000    249.203055\n2001     41.622623\n2002     27.623988\n2003     94.085441\n2004     29.913239\n2005     34.281426\n2006     37.928697\n2007     39.288397\n2008     44.507292\n2009    142.805197\n2010    280.467547\n2011     52.634721\n2012     53.657789\n2013     55.093312\n2014     52.244736\n2015     49.769534\n2016     46.447385\n2017     45.983336\n2018     44.967758\nName: fuel_cost_per_unit_burned, dtype: float64"
          },
          "metadata": {}
        }
      ]
    },
    {
      "metadata": {
        "trusted": true
      },
      "cell_type": "code",
      "source": "print(((27.616234-31.546467)*100)/31.546467)",
      "execution_count": 96,
      "outputs": [
        {
          "output_type": "stream",
          "text": "-12.458552014715313\n",
          "name": "stdout"
        }
      ]
    },
    {
      "metadata": {
        "trusted": true
      },
      "cell_type": "code",
      "source": "#question 10\ndata.groupby('report_year').fuel_cost_per_unit_delivered.mean()",
      "execution_count": 97,
      "outputs": [
        {
          "output_type": "execute_result",
          "execution_count": 97,
          "data": {
            "text/plain": "report_year\n1994       63.636060\n1995       32.735269\n1996     9196.705948\n1997    11140.197239\n1998      287.154420\n1999       25.551627\n2000      985.362877\n2001       60.050396\n2002       47.594361\n2003       55.663493\n2004      139.524275\n2005       41.438184\n2006       38.657484\n2007       43.325023\n2008       58.588197\n2009      652.694163\n2010       91.862105\n2011       59.774667\n2012       60.994502\n2013      172.307591\n2014      192.737183\n2015      326.535511\n2016      103.901761\n2017       46.196861\n2018      499.269966\nName: fuel_cost_per_unit_delivered, dtype: float64"
          },
          "metadata": {}
        }
      ]
    },
    {
      "metadata": {
        "trusted": true
      },
      "cell_type": "code",
      "source": "",
      "execution_count": null,
      "outputs": []
    },
    {
      "metadata": {
        "trusted": true
      },
      "cell_type": "code",
      "source": "#question6\ndata['fuel_cost_per_unit_burned'].kurtosis()\n",
      "execution_count": 98,
      "outputs": [
        {
          "output_type": "execute_result",
          "execution_count": 98,
          "data": {
            "text/plain": "485.2558511544102"
          },
          "metadata": {}
        }
      ]
    },
    {
      "metadata": {
        "trusted": true
      },
      "cell_type": "code",
      "source": "data['fuel_cost_per_unit_burned'].skew()",
      "execution_count": 99,
      "outputs": [
        {
          "output_type": "execute_result",
          "execution_count": 99,
          "data": {
            "text/plain": "19.787439798747734"
          },
          "metadata": {}
        }
      ]
    },
    {
      "metadata": {
        "trusted": true
      },
      "cell_type": "code",
      "source": "",
      "execution_count": null,
      "outputs": []
    }
  ],
  "metadata": {
    "kernelspec": {
      "name": "python36",
      "display_name": "Python 3.6",
      "language": "python"
    },
    "language_info": {
      "mimetype": "text/x-python",
      "nbconvert_exporter": "python",
      "name": "python",
      "pygments_lexer": "ipython3",
      "version": "3.6.6",
      "file_extension": ".py",
      "codemirror_mode": {
        "version": 3,
        "name": "ipython"
      }
    }
  },
  "nbformat": 4,
  "nbformat_minor": 2
}